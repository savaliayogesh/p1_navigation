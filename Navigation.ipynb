{
 "cells": [
  {
   "cell_type": "markdown",
   "metadata": {},
   "source": [
    "# Navigation\n",
    "\n",
    "---\n",
    "\n",
    "You are welcome to use this coding environment to train your agent for the project.  Follow the instructions below to get started!\n",
    "\n",
    "### 1. Start the Environment\n",
    "\n",
    "Run the next code cell to install a few packages.  This line will take a few minutes to run!"
   ]
  },
  {
   "cell_type": "code",
   "execution_count": 1,
   "metadata": {},
   "outputs": [],
   "source": [
    "#!pip -q install ./python"
   ]
  },
  {
   "cell_type": "markdown",
   "metadata": {},
   "source": [
    "The environment is already saved in the Workspace and can be accessed at the file path provided below.  Please run the next code cell without making any changes."
   ]
  },
  {
   "cell_type": "code",
   "execution_count": 2,
   "metadata": {},
   "outputs": [
    {
     "name": "stderr",
     "output_type": "stream",
     "text": [
      "INFO:unityagents:\n",
      "'Academy' started successfully!\n",
      "Unity Academy name: Academy\n",
      "        Number of Brains: 1\n",
      "        Number of External Brains : 1\n",
      "        Lesson number : 0\n",
      "        Reset Parameters :\n",
      "\t\t\n",
      "Unity brain name: BananaBrain\n",
      "        Number of Visual Observations (per agent): 0\n",
      "        Vector Observation space type: continuous\n",
      "        Vector Observation space size (per agent): 37\n",
      "        Number of stacked Vector Observation: 1\n",
      "        Vector Action space type: discrete\n",
      "        Vector Action space size (per agent): 4\n",
      "        Vector Action descriptions: , , , \n"
     ]
    }
   ],
   "source": [
    "from unityagents import UnityEnvironment\n",
    "import numpy as np\n",
    "\n",
    "# please do not modify the line below\n",
    "env = UnityEnvironment(file_name=\"Banana_Windows_x86_64\\Banana.exe\")"
   ]
  },
  {
   "cell_type": "markdown",
   "metadata": {},
   "source": [
    "Environments contain **_brains_** which are responsible for deciding the actions of their associated agents. Here we check for the first brain available, and set it as the default brain we will be controlling from Python."
   ]
  },
  {
   "cell_type": "code",
   "execution_count": 3,
   "metadata": {},
   "outputs": [],
   "source": [
    "# get the default brain\n",
    "brain_name = env.brain_names[0]\n",
    "brain = env.brains[brain_name]"
   ]
  },
  {
   "cell_type": "markdown",
   "metadata": {},
   "source": [
    "### 2. Examine the State and Action Spaces\n",
    "\n",
    "Run the code cell below to print some information about the environment."
   ]
  },
  {
   "cell_type": "code",
   "execution_count": 4,
   "metadata": {},
   "outputs": [
    {
     "name": "stdout",
     "output_type": "stream",
     "text": [
      "Number of agents: 1\n",
      "Number of actions: 4\n",
      "States look like: [1.         0.         0.         0.         0.84408134 0.\n",
      " 0.         1.         0.         0.0748472  0.         1.\n",
      " 0.         0.         0.25755    1.         0.         0.\n",
      " 0.         0.74177343 0.         1.         0.         0.\n",
      " 0.25854847 0.         0.         1.         0.         0.09355672\n",
      " 0.         1.         0.         0.         0.31969345 0.\n",
      " 0.        ]\n",
      "States have length: 37\n"
     ]
    }
   ],
   "source": [
    "# reset the environment\n",
    "env_info = env.reset(train_mode=True)[brain_name]\n",
    "\n",
    "# number of agents in the environment\n",
    "print('Number of agents:', len(env_info.agents))\n",
    "\n",
    "# number of actions\n",
    "action_size = brain.vector_action_space_size\n",
    "print('Number of actions:', action_size)\n",
    "\n",
    "# examine the state space \n",
    "state = env_info.vector_observations[0]\n",
    "print('States look like:', state)\n",
    "state_size = len(state)\n",
    "print('States have length:', state_size)"
   ]
  },
  {
   "cell_type": "markdown",
   "metadata": {},
   "source": [
    "### 3. Take Random Actions in the Environment\n",
    "\n",
    "In the next code cell, you will learn how to use the Python API to control the agent and receive feedback from the environment.\n",
    "\n",
    "Note that **in this coding environment, you will not be able to watch the agent while it is training**, and you should set `train_mode=True` to restart the environment."
   ]
  },
  {
   "cell_type": "code",
   "execution_count": 5,
   "metadata": {},
   "outputs": [
    {
     "name": "stdout",
     "output_type": "stream",
     "text": [
      "Score: 0.0\n"
     ]
    }
   ],
   "source": [
    "env_info = env.reset(train_mode=True)[brain_name] # reset the environment\n",
    "state = env_info.vector_observations[0]            # get the current state\n",
    "score = 0                                          # initialize the score\n",
    "while True:\n",
    "    action = np.random.randint(action_size)        # select an action\n",
    "    env_info = env.step(action)[brain_name]        # send the action to the environment\n",
    "    next_state = env_info.vector_observations[0]   # get the next state\n",
    "    reward = env_info.rewards[0]                   # get the reward\n",
    "    done = env_info.local_done[0]                  # see if episode has finished\n",
    "    score += reward                                # update the score\n",
    "    state = next_state                             # roll over the state to next time step\n",
    "    if done:                                       # exit loop if episode finished\n",
    "        break\n",
    "    \n",
    "print(\"Score: {}\".format(score))"
   ]
  },
  {
   "cell_type": "markdown",
   "metadata": {},
   "source": [
    "When finished, you can close the environment."
   ]
  },
  {
   "cell_type": "code",
   "execution_count": 6,
   "metadata": {},
   "outputs": [],
   "source": [
    "env.close()"
   ]
  },
  {
   "cell_type": "markdown",
   "metadata": {},
   "source": [
    "### 4. It's Your Turn!\n",
    "\n",
    "Now it's your turn to train your own agent to solve the environment!  A few **important notes**:\n",
    "- When training the environment, set `train_mode=True`, so that the line for resetting the environment looks like the following:\n",
    "```python\n",
    "env_info = env.reset(train_mode=True)[brain_name]\n",
    "```\n",
    "- To structure your work, you're welcome to work directly in this Jupyter notebook, or you might like to start over with a new file!  You can see the list of files in the workspace by clicking on **_Jupyter_** in the top left corner of the notebook.\n",
    "- In this coding environment, you will not be able to watch the agent while it is training.  However, **_after training the agent_**, you can download the saved model weights to watch the agent on your own machine! "
   ]
  },
  {
   "cell_type": "code",
   "execution_count": 8,
   "metadata": {},
   "outputs": [
    {
     "name": "stdout",
     "output_type": "stream",
     "text": [
      "Device type is cpu.\n"
     ]
    }
   ],
   "source": [
    "import torch\n",
    "device = torch.device(\"cuda:0\" if torch.cuda.is_available() else \"cpu\")\n",
    "print('Device type is {}.'.format(device))"
   ]
  },
  {
   "cell_type": "code",
   "execution_count": 9,
   "metadata": {},
   "outputs": [],
   "source": [
    "from dqn_agent import Agent\n",
    "\n",
    "agent = Agent(state_size,\n",
    "              action_size,\n",
    "              seed=0,\n",
    "              device=device)"
   ]
  },
  {
   "cell_type": "code",
   "execution_count": 10,
   "metadata": {},
   "outputs": [],
   "source": [
    "import torch\n",
    "from collections import deque\n",
    "\n",
    "def dqn(agent,n_episodes=200, max_t=1000, eps_start=1, eps_end=0.01, eps_decay=0.99,train=True,checkpoint_filename='checkpoint.pth'):\n",
    "    if train :\n",
    "        print(\"Agent training is enabled.\")\n",
    "    else:\n",
    "        print(\"Agent is running for production.\")\n",
    "\n",
    "    env_info = env.reset(train_mode=train)[brain_name]      # reset the environment\n",
    "    state = env_info.vector_observations[0]                 # get the current state\n",
    "    score = 0                                               # initialize the score\n",
    "    eps = eps_start                                         # initialize epsilon\n",
    "    scores_window = deque(maxlen=100)                       # last 100 scores\n",
    "    scores = []                                             # list containing scores from each episode\n",
    "    #while True:\n",
    "    for i_episode in range(1, n_episodes+1):\n",
    "        env_info = env.reset(train_mode=train)[brain_name]  # reset the environment\n",
    "        state = env_info.vector_observations[0]             # get the current state\n",
    "        score = 0\n",
    "        for t in range(max_t):\n",
    "            action = agent.act(state, eps if train else 0.0)#Select action using agent\n",
    "            action= action.astype(int)\n",
    "           \n",
    "            env_info = env.step(action)[brain_name]         # send the action to the environment\n",
    "            next_state = env_info.vector_observations[0]    # get the next state\n",
    "            reward = env_info.rewards[0]                    # get the reward\n",
    "            done = env_info.local_done[0]                   # see if episode has finished\n",
    "            if train:\n",
    "                agent.step(state, action, reward, next_state, done)\n",
    "            score += reward                                 # update the score\n",
    "            state = next_state                              # roll over the state to next time step\n",
    "            if done:                                        # exit loop if episode finished\n",
    "                break\n",
    "        scores_window.append(score)                         # save most recent score\n",
    "        scores.append(score)                                # save most recent score\n",
    "        eps = max(eps_end, eps_decay*eps)                   # decrease epsilon\n",
    "        if i_episode % 100 == 0:\n",
    "            print('\\rEpisode {}\\tAverage Score: {:.2f}'.format(i_episode, np.mean(scores_window)))\n",
    "        if np.mean(scores_window)>=13.0 and train:\n",
    "            print('\\nEnvironment solved in {:d} episodes!\\tAverage Score: {:.2f}'.format(i_episode-100, np.mean(scores_window)))\n",
    "            torch.save(agent.qnetwork_local.state_dict(), checkpoint_filename)\n",
    "            print('neural network training weight is stored in file \\'{}\\''.format(checkpoint_filename))\n",
    "            break\n",
    "    print(\"Score: {}\".format(score))\n",
    "    return scores\n"
   ]
  },
  {
   "cell_type": "code",
   "execution_count": 11,
   "metadata": {},
   "outputs": [
    {
     "name": "stdout",
     "output_type": "stream",
     "text": [
      "Agent training is enabled.\n",
      "Episode 100\tAverage Score: 1.43\n",
      "Episode 200\tAverage Score: 7.67\n",
      "Episode 300\tAverage Score: 9.49\n",
      "Episode 400\tAverage Score: 12.28\n",
      "\n",
      "Environment solved in 315 episodes!\tAverage Score: 13.00\n",
      "neural network training weight is stored in file 'dqn_checkpoint.pth'\n",
      "Score: 22.0\n"
     ]
    }
   ],
   "source": [
    "scores = dqn(agent,n_episodes=4000,train=True,checkpoint_filename='dqn_checkpoint.pth')"
   ]
  },
  {
   "cell_type": "code",
   "execution_count": 14,
   "metadata": {},
   "outputs": [
    {
     "data": {
      "image/png": "[encoded data removed]",
      "text/plain": [
       "<matplotlib.figure.Figure at 0x26487b408d0>"
      ]
     },
     "metadata": {},
     "output_type": "display_data"
    }
   ],
   "source": [
    "# plot the scores\n",
    "import matplotlib.pyplot as plt\n",
    "fig = plt.figure()\n",
    "ax = fig.add_subplot(111)\n",
    "plt.plot(np.arange(len(scores)), scores)\n",
    "plt.ylabel('Score')\n",
    "plt.xlabel('Episode #')\n",
    "plt.show()"
   ]
  },
  {
   "cell_type": "code",
   "execution_count": 15,
   "metadata": {},
   "outputs": [],
   "source": [
    "#RUN Trained Agent"
   ]
  },
  {
   "cell_type": "code",
   "execution_count": 16,
   "metadata": {},
   "outputs": [
    {
     "name": "stdout",
     "output_type": "stream",
     "text": [
      "Loading Agent with weights from file 'dqn_checkpoint.pth'.\n",
      "Agent is running for production.\n",
      "Episode 100\tAverage Score: 15.14\n",
      "Score: 22.0\n"
     ]
    },
    {
     "data": {
      "text/plain": [
       "[18.0,\n",
       " 7.0,\n",
       " 5.0,\n",
       " 18.0,\n",
       " 13.0,\n",
       " 17.0,\n",
       " 13.0,\n",
       " 20.0,\n",
       " 14.0,\n",
       " 17.0,\n",
       " 5.0,\n",
       " 14.0,\n",
       " 20.0,\n",
       " 13.0,\n",
       " 18.0,\n",
       " 16.0,\n",
       " 3.0,\n",
       " 11.0,\n",
       " 20.0,\n",
       " 12.0,\n",
       " 21.0,\n",
       " 12.0,\n",
       " 25.0,\n",
       " 2.0,\n",
       " 22.0,\n",
       " 19.0,\n",
       " 15.0,\n",
       " 13.0,\n",
       " 19.0,\n",
       " 18.0,\n",
       " 7.0,\n",
       " 17.0,\n",
       " 16.0,\n",
       " 14.0,\n",
       " 18.0,\n",
       " 15.0,\n",
       " 16.0,\n",
       " 15.0,\n",
       " 18.0,\n",
       " 16.0,\n",
       " 17.0,\n",
       " 18.0,\n",
       " 19.0,\n",
       " 19.0,\n",
       " 15.0,\n",
       " 12.0,\n",
       " 16.0,\n",
       " 18.0,\n",
       " 1.0,\n",
       " 16.0,\n",
       " 23.0,\n",
       " 22.0,\n",
       " 16.0,\n",
       " 13.0,\n",
       " 21.0,\n",
       " 11.0,\n",
       " 3.0,\n",
       " 1.0,\n",
       " 12.0,\n",
       " 23.0,\n",
       " 3.0,\n",
       " 17.0,\n",
       " 18.0,\n",
       " 11.0,\n",
       " 18.0,\n",
       " 15.0,\n",
       " 15.0,\n",
       " 17.0,\n",
       " 21.0,\n",
       " 19.0,\n",
       " 21.0,\n",
       " 0.0,\n",
       " 17.0,\n",
       " 14.0,\n",
       " 22.0,\n",
       " 21.0,\n",
       " 15.0,\n",
       " 19.0,\n",
       " 8.0,\n",
       " 21.0,\n",
       " 22.0,\n",
       " 2.0,\n",
       " 20.0,\n",
       " 19.0,\n",
       " 14.0,\n",
       " 22.0,\n",
       " 6.0,\n",
       " 18.0,\n",
       " 15.0,\n",
       " 13.0,\n",
       " 22.0,\n",
       " 22.0,\n",
       " 18.0,\n",
       " 7.0,\n",
       " 21.0,\n",
       " 13.0,\n",
       " 18.0,\n",
       " 4.0,\n",
       " 16.0,\n",
       " 22.0]"
      ]
     },
     "execution_count": 16,
     "metadata": {},
     "output_type": "execute_result"
    }
   ],
   "source": [
    "from dqn_agent import Agent\n",
    "from model import *\n",
    "agent = Agent(state_size,\n",
    "              action_size,\n",
    "              seed=0,\n",
    "              device=device,\n",
    "              checkpoint_filename='dqn_checkpoint.pth')\n",
    "dqn(agent,n_episodes=100,train= False)"
   ]
  },
  {
   "cell_type": "code",
   "execution_count": null,
   "metadata": {},
   "outputs": [],
   "source": []
  }
 ],
 "metadata": {
  "kernelspec": {
   "display_name": "Python 3",
   "language": "python",
   "name": "python3"
  },
  "language_info": {
   "codemirror_mode": {
    "name": "ipython",
    "version": 3
   },
   "file_extension": ".py",
   "mimetype": "text/x-python",
   "name": "python",
   "nbconvert_exporter": "python",
   "pygments_lexer": "ipython3",
   "version": "3.5.4"
  }
 },
 "nbformat": 4,
 "nbformat_minor": 2
}
