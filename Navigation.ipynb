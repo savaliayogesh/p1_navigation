{
 "cells": [
  {
   "cell_type": "markdown",
   "metadata": {},
   "source": [
    "# Navigation\n",
    "\n",
    "---\n",
    "\n",
    "You are welcome to use this coding environment to train your agent for the project.  Follow the instructions below to get started!\n",
    "\n",
    "### 1. Start the Environment\n",
    "\n",
    "Run the next code cell to install a few packages.  This line will take a few minutes to run!"
   ]
  },
  {
   "cell_type": "code",
   "execution_count": 1,
   "metadata": {},
   "outputs": [],
   "source": [
    "#!pip -q install ./python"
   ]
  },
  {
   "cell_type": "markdown",
   "metadata": {},
   "source": [
    "The environment is already saved in the Workspace and can be accessed at the file path provided below.  Please run the next code cell without making any changes."
   ]
  },
  {
   "cell_type": "code",
   "execution_count": 2,
   "metadata": {},
   "outputs": [
    {
     "name": "stderr",
     "output_type": "stream",
     "text": [
      "INFO:unityagents:\n",
      "'Academy' started successfully!\n",
      "Unity Academy name: Academy\n",
      "        Number of Brains: 1\n",
      "        Number of External Brains : 1\n",
      "        Lesson number : 0\n",
      "        Reset Parameters :\n",
      "\t\t\n",
      "Unity brain name: BananaBrain\n",
      "        Number of Visual Observations (per agent): 0\n",
      "        Vector Observation space type: continuous\n",
      "        Vector Observation space size (per agent): 37\n",
      "        Number of stacked Vector Observation: 1\n",
      "        Vector Action space type: discrete\n",
      "        Vector Action space size (per agent): 4\n",
      "        Vector Action descriptions: , , , \n"
     ]
    }
   ],
   "source": [
    "from unityagents import UnityEnvironment\n",
    "import numpy as np\n",
    "\n",
    "# please do not modify the line below\n",
    "env = UnityEnvironment(file_name=\"Banana_Windows_x86_64\\Banana.exe\")"
   ]
  },
  {
   "cell_type": "markdown",
   "metadata": {},
   "source": [
    "Environments contain **_brains_** which are responsible for deciding the actions of their associated agents. Here we check for the first brain available, and set it as the default brain we will be controlling from Python."
   ]
  },
  {
   "cell_type": "code",
   "execution_count": 3,
   "metadata": {},
   "outputs": [],
   "source": [
    "# get the default brain\n",
    "brain_name = env.brain_names[0]\n",
    "brain = env.brains[brain_name]"
   ]
  },
  {
   "cell_type": "markdown",
   "metadata": {},
   "source": [
    "### 2. Examine the State and Action Spaces\n",
    "\n",
    "Run the code cell below to print some information about the environment."
   ]
  },
  {
   "cell_type": "code",
   "execution_count": 4,
   "metadata": {},
   "outputs": [
    {
     "name": "stdout",
     "output_type": "stream",
     "text": [
      "Number of agents: 1\n",
      "Number of actions: 4\n",
      "States look like: [1.         0.         0.         0.         0.84408134 0.\n",
      " 0.         1.         0.         0.0748472  0.         1.\n",
      " 0.         0.         0.25755    1.         0.         0.\n",
      " 0.         0.74177343 0.         1.         0.         0.\n",
      " 0.25854847 0.         0.         1.         0.         0.09355672\n",
      " 0.         1.         0.         0.         0.31969345 0.\n",
      " 0.        ]\n",
      "States have length: 37\n"
     ]
    }
   ],
   "source": [
    "# reset the environment\n",
    "env_info = env.reset(train_mode=True)[brain_name]\n",
    "\n",
    "# number of agents in the environment\n",
    "print('Number of agents:', len(env_info.agents))\n",
    "\n",
    "# number of actions\n",
    "action_size = brain.vector_action_space_size\n",
    "print('Number of actions:', action_size)\n",
    "\n",
    "# examine the state space \n",
    "state = env_info.vector_observations[0]\n",
    "print('States look like:', state)\n",
    "state_size = len(state)\n",
    "print('States have length:', state_size)"
   ]
  },
  {
   "cell_type": "markdown",
   "metadata": {},
   "source": [
    "### 3. Take Random Actions in the Environment\n",
    "\n",
    "In the next code cell, you will learn how to use the Python API to control the agent and receive feedback from the environment.\n",
    "\n",
    "Note that **in this coding environment, you will not be able to watch the agent while it is training**, and you should set `train_mode=True` to restart the environment."
   ]
  },
  {
   "cell_type": "code",
   "execution_count": 5,
   "metadata": {},
   "outputs": [
    {
     "name": "stdout",
     "output_type": "stream",
     "text": [
      "Score: 0.0\n"
     ]
    }
   ],
   "source": [
    "env_info = env.reset(train_mode=True)[brain_name] # reset the environment\n",
    "state = env_info.vector_observations[0]            # get the current state\n",
    "score = 0                                          # initialize the score\n",
    "while True:\n",
    "    action = np.random.randint(action_size)        # select an action\n",
    "    env_info = env.step(action)[brain_name]        # send the action to the environment\n",
    "    next_state = env_info.vector_observations[0]   # get the next state\n",
    "    reward = env_info.rewards[0]                   # get the reward\n",
    "    done = env_info.local_done[0]                  # see if episode has finished\n",
    "    score += reward                                # update the score\n",
    "    state = next_state                             # roll over the state to next time step\n",
    "    if done:                                       # exit loop if episode finished\n",
    "        break\n",
    "    \n",
    "print(\"Score: {}\".format(score))"
   ]
  },
  {
   "cell_type": "markdown",
   "metadata": {},
   "source": [
    "When finished, you can close the environment."
   ]
  },
  {
   "cell_type": "code",
   "execution_count": 6,
   "metadata": {},
   "outputs": [],
   "source": [
    "env.close()"
   ]
  },
  {
   "cell_type": "markdown",
   "metadata": {},
   "source": [
    "### 4. It's Your Turn!\n",
    "\n",
    "Now it's your turn to train your own agent to solve the environment!  A few **important notes**:\n",
    "- When training the environment, set `train_mode=True`, so that the line for resetting the environment looks like the following:\n",
    "```python\n",
    "env_info = env.reset(train_mode=True)[brain_name]\n",
    "```\n",
    "- To structure your work, you're welcome to work directly in this Jupyter notebook, or you might like to start over with a new file!  You can see the list of files in the workspace by clicking on **_Jupyter_** in the top left corner of the notebook.\n",
    "- In this coding environment, you will not be able to watch the agent while it is training.  However, **_after training the agent_**, you can download the saved model weights to watch the agent on your own machine! "
   ]
  },
  {
   "cell_type": "code",
   "execution_count": 7,
   "metadata": {},
   "outputs": [],
   "source": [
    "from dqn_agent import Agent\n",
    "\n",
    "agent = Agent(state_size,\n",
    "              action_size,\n",
    "              seed=0)"
   ]
  },
  {
   "cell_type": "code",
   "execution_count": 15,
   "metadata": {},
   "outputs": [],
   "source": [
    "import torch\n",
    "from collections import deque\n",
    "\n",
    "def dqn(n_episodes=2000, max_t=1000, eps_start=1.0, eps_end=0.01, eps_decay=0.995, isTraining=True):\n",
    "\n",
    "    env_info = env.reset(train_mode=isTraining)[brain_name]      # reset the environment\n",
    "    scores = []                        # list containing scores from each episode\n",
    "    scores_window = deque(maxlen=100)  # last 100 scores\n",
    "    eps = eps_start                    # initialize epsilon\n",
    "    for i_episode in range(1, n_episodes+1):\n",
    "        env_info = env.reset(train_mode=isTraining)[brain_name]\n",
    "        state = env_info.vector_observations[0]\n",
    "        score = 0\n",
    "        for t in range(max_t):\n",
    "            action = agent.act(state, eps)\n",
    "            action = action.astype(int)\n",
    "            env_info = env.step(action)[brain_name]\n",
    "            next_state = env_info.vector_observations[0]   # get the next state\n",
    "            reward = env_info.rewards[0]                   # get the reward\n",
    "            done = env_info.local_done[0]                  # see if episode has finished\n",
    "            agent.step(state, action, reward, next_state, done)\n",
    "            score += reward                                # update the score\n",
    "            state = next_state                             # roll over the state to next time step\n",
    "            if done:                                       # exit loop if episode finished\n",
    "                break\n",
    "        scores_window.append(score)       # save most recent score\n",
    "        scores.append(score)              # save most recent score\n",
    "        eps = max(eps_end, eps_decay*eps) # decrease epsilon\n",
    "        print('\\rEpisode {}\\tAverage Score: {:.2f}'.format(i_episode, np.mean(scores_window)), end=\"\")\n",
    "        if i_episode % 100 == 0:\n",
    "            print('\\rEpisode {}\\tAverage Score: {:.2f}'.format(i_episode, np.mean(scores_window)))\n",
    "        if np.mean(scores_window)>=14:\n",
    "            print('\\nEnvironment solved in {:d} episodes!\\tAverage Score: {:.2f}'.format(i_episode-100, np.mean(scores_window)))\n",
    "            torch.save(agent.qnetwork_local.state_dict(), 'checkpoint.pth')\n",
    "            break\n",
    "    return scores\n"
   ]
  },
  {
   "cell_type": "code",
   "execution_count": 16,
   "metadata": {},
   "outputs": [
    {
     "name": "stdout",
     "output_type": "stream",
     "text": [
      "Episode 100\tAverage Score: 1.93\n",
      "Episode 200\tAverage Score: 6.26\n",
      "Episode 300\tAverage Score: 8.99\n",
      "Episode 400\tAverage Score: 11.50\n",
      "Episode 500\tAverage Score: 13.18\n",
      "Episode 600\tAverage Score: 13.54\n",
      "Episode 625\tAverage Score: 14.07\n",
      "Environment solved in 525 episodes!\tAverage Score: 14.07\n"
     ]
    }
   ],
   "source": [
    "scores = dqn()"
   ]
  },
  {
   "cell_type": "code",
   "execution_count": 17,
   "metadata": {},
   "outputs": [
    {
     "data": {
      "image/png": "[encoded data removed]",
      "text/plain": [
       "<matplotlib.figure.Figure at 0x26c84d3ce10>"
      ]
     },
     "metadata": {},
     "output_type": "display_data"
    }
   ],
   "source": [
    "# plot the scores\n",
    "import matplotlib.pyplot as plt\n",
    "fig = plt.figure()\n",
    "ax = fig.add_subplot(111)\n",
    "plt.plot(np.arange(len(scores)), scores)\n",
    "plt.ylabel('Score')\n",
    "plt.xlabel('Episode #')\n",
    "plt.show()"
   ]
  },
  {
   "cell_type": "markdown",
   "metadata": {},
   "source": [
    "#  5. Get average score of 100 episodes using trained agent"
   ]
  },
  {
   "cell_type": "code",
   "execution_count": 21,
   "metadata": {},
   "outputs": [
    {
     "name": "stdout",
     "output_type": "stream",
     "text": [
      "Episode: 1    Score: 18.0\n",
      "Episode: 2    Score: 16.5\n",
      "Episode: 3    Score: 13.666666666666666\n",
      "Episode: 4    Score: 15.0\n",
      "Episode: 5    Score: 13.6\n",
      "Episode: 6    Score: 13.333333333333334\n",
      "Episode: 7    Score: 14.0\n",
      "Episode: 8    Score: 12.875\n",
      "Episode: 9    Score: 12.444444444444445\n",
      "Episode: 10    Score: 12.9\n",
      "Episode: 11    Score: 12.909090909090908\n",
      "Episode: 12    Score: 12.75\n",
      "Episode: 13    Score: 12.153846153846153\n",
      "Episode: 14    Score: 12.071428571428571\n",
      "Episode: 15    Score: 12.6\n",
      "Episode: 16    Score: 12.375\n",
      "Episode: 17    Score: 12.588235294117647\n",
      "Episode: 18    Score: 13.0\n",
      "Episode: 19    Score: 13.105263157894736\n",
      "Episode: 20    Score: 12.85\n",
      "Episode: 21    Score: 13.0\n",
      "Episode: 22    Score: 12.954545454545455\n",
      "Episode: 23    Score: 13.043478260869565\n",
      "Episode: 24    Score: 13.166666666666666\n",
      "Episode: 25    Score: 12.96\n",
      "Episode: 26    Score: 12.807692307692308\n",
      "Episode: 27    Score: 12.666666666666666\n",
      "Episode: 28    Score: 12.428571428571429\n",
      "Episode: 29    Score: 12.310344827586206\n",
      "Episode: 30    Score: 12.366666666666667\n",
      "Episode: 31    Score: 12.161290322580646\n",
      "Episode: 32    Score: 12.21875\n",
      "Episode: 33    Score: 12.333333333333334\n",
      "Episode: 34    Score: 12.470588235294118\n",
      "Episode: 35    Score: 12.657142857142857\n",
      "Episode: 36    Score: 12.666666666666666\n",
      "Episode: 37    Score: 12.72972972972973\n",
      "Episode: 38    Score: 12.81578947368421\n",
      "Episode: 39    Score: 12.846153846153847\n",
      "Episode: 40    Score: 12.775\n",
      "Episode: 41    Score: 12.78048780487805\n",
      "Episode: 42    Score: 13.023809523809524\n",
      "Episode: 43    Score: 12.837209302325581\n",
      "Episode: 44    Score: 12.977272727272727\n",
      "Episode: 45    Score: 13.044444444444444\n",
      "Episode: 46    Score: 13.0\n",
      "Episode: 47    Score: 13.063829787234043\n",
      "Episode: 48    Score: 13.125\n",
      "Episode: 49    Score: 13.204081632653061\n",
      "Episode: 50    Score: 13.28\n",
      "Episode: 51    Score: 13.294117647058824\n",
      "Episode: 52    Score: 13.26923076923077\n",
      "Episode: 53    Score: 13.150943396226415\n",
      "Episode: 54    Score: 13.055555555555555\n",
      "Episode: 55    Score: 13.054545454545455\n",
      "Episode: 56    Score: 13.017857142857142\n",
      "Episode: 57    Score: 12.947368421052632\n",
      "Episode: 58    Score: 12.96551724137931\n",
      "Episode: 59    Score: 12.830508474576272\n",
      "Episode: 60    Score: 12.833333333333334\n",
      "Episode: 61    Score: 12.704918032786885\n",
      "Episode: 62    Score: 12.85483870967742\n",
      "Episode: 63    Score: 12.825396825396826\n",
      "Episode: 64    Score: 12.671875\n",
      "Episode: 65    Score: 12.738461538461538\n",
      "Episode: 66    Score: 12.575757575757576\n",
      "Episode: 67    Score: 12.64179104477612\n",
      "Episode: 68    Score: 12.720588235294118\n",
      "Episode: 69    Score: 12.710144927536232\n",
      "Episode: 70    Score: 12.67142857142857\n",
      "Episode: 71    Score: 12.492957746478874\n",
      "Episode: 72    Score: 12.555555555555555\n",
      "Episode: 73    Score: 12.534246575342467\n",
      "Episode: 74    Score: 12.608108108108109\n",
      "Episode: 75    Score: 12.626666666666667\n",
      "Episode: 76    Score: 12.473684210526315\n",
      "Episode: 77    Score: 12.402597402597403\n",
      "Episode: 78    Score: 12.371794871794872\n",
      "Episode: 79    Score: 12.405063291139241\n",
      "Episode: 80    Score: 12.375\n",
      "Episode: 81    Score: 12.358024691358025\n",
      "Episode: 82    Score: 12.353658536585366\n",
      "Episode: 83    Score: 12.457831325301205\n",
      "Episode: 84    Score: 12.452380952380953\n",
      "Episode: 85    Score: 12.541176470588235\n",
      "Episode: 86    Score: 12.604651162790697\n",
      "Episode: 87    Score: 12.67816091954023\n",
      "Episode: 88    Score: 12.761363636363637\n",
      "Episode: 89    Score: 12.786516853932584\n",
      "Episode: 90    Score: 12.877777777777778\n",
      "Episode: 91    Score: 12.978021978021978\n",
      "Episode: 92    Score: 12.978260869565217\n",
      "Episode: 93    Score: 12.924731182795698\n",
      "Episode: 94    Score: 12.840425531914894\n",
      "Episode: 95    Score: 12.778947368421052\n",
      "Episode: 96    Score: 12.697916666666666\n",
      "Episode: 97    Score: 12.721649484536082\n",
      "Episode: 98    Score: 12.755102040816327\n",
      "Episode: 99    Score: 12.757575757575758\n",
      "Episode: 100    Score: 12.8\n",
      "Average Score: 12.8\n"
     ]
    }
   ],
   "source": [
    "agent.qnetwork_local.load_state_dict(torch.load('checkpoint.pth'))\n",
    "\n",
    "env_info = env.reset(train_mode=False)[brain_name] # reset the environment\n",
    "state = env_info.vector_observations[0]            # get the current state\n",
    "score = 0                                          # initialize the score\n",
    "n_episodes=100\n",
    "for i_episode in range(1, n_episodes+1):\n",
    "    env_info = env.reset(train_mode=False)[brain_name] # reset the environment\n",
    "    state = env_info.vector_observations[0]            # get the current state\n",
    "    while True:\n",
    "        action = agent.act(state,.05)                  # select an action\n",
    "        action = action.astype(int)\n",
    "        env_info = env.step(action)[brain_name]        # send the action to the environment\n",
    "        next_state = env_info.vector_observations[0]   # get the next state\n",
    "        reward = env_info.rewards[0]                   # get the reward\n",
    "        done = env_info.local_done[0]                  # see if episode has finished\n",
    "        score += reward                                # update the score\n",
    "        state = next_state                             # roll over the state to next time step\n",
    "        if done:                                       # exit loop if episode finished\n",
    "            break\n",
    "    print(\"Episode: {}    Score: {}\".format(i_episode, score/i_episode))\n",
    "    \n",
    "print(\"Average Score: {}\".format(score/n_episodes))"
   ]
  },
  {
   "cell_type": "code",
   "execution_count": 22,
   "metadata": {},
   "outputs": [],
   "source": [
    "env.close()"
   ]
  },
  {
   "cell_type": "code",
   "execution_count": null,
   "metadata": {},
   "outputs": [],
   "source": []
  }
 ],
 "metadata": {
  "kernelspec": {
   "display_name": "Python 3",
   "language": "python",
   "name": "python3"
  },
  "language_info": {
   "codemirror_mode": {
    "name": "ipython",
    "version": 3
   },
   "file_extension": ".py",
   "mimetype": "text/x-python",
   "name": "python",
   "nbconvert_exporter": "python",
   "pygments_lexer": "ipython3",
   "version": "3.5.4"
  }
 },
 "nbformat": 4,
 "nbformat_minor": 2
}
